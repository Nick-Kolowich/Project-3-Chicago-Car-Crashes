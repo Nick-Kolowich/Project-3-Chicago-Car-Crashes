{
 "cells": [
  {
   "cell_type": "code",
   "execution_count": 1,
   "metadata": {},
   "outputs": [],
   "source": [
    "from Functions import *"
   ]
  },
  {
   "cell_type": "code",
   "execution_count": 2,
   "metadata": {},
   "outputs": [],
   "source": [
    "# import data\n",
    "data = pd.read_csv(r'C:\\Users\\Nick\\Downloads\\Project-3-Chicago-Car-Crashes-main\\Project-3-Chicago-Car-Crashes-main\\Notebooks\\cleaned_data.csv')\n",
    "data_ = pd.read_csv(r'C:\\Users\\Nick\\Downloads\\Project-3-Chicago-Car-Crashes-main\\Project-3-Chicago-Car-Crashes-main\\Notebooks\\cleaned_dummified_data.csv')"
   ]
  },
  {
   "cell_type": "markdown",
   "metadata": {},
   "source": [
    "## Defining Target & Predictors "
   ]
  },
  {
   "cell_type": "code",
   "execution_count": 3,
   "metadata": {},
   "outputs": [
    {
     "data": {
      "text/plain": [
       "0    221682\n",
       "1     17185\n",
       "2      7672\n",
       "3      4257\n",
       "Name: PRIM_CONTRIBUTORY_CAUSE, dtype: int64"
      ]
     },
     "execution_count": 3,
     "metadata": {},
     "output_type": "execute_result"
    }
   ],
   "source": [
    "x = data_.drop(['PRIM_CONTRIBUTORY_CAUSE'], axis=1)\n",
    "y = data_['PRIM_CONTRIBUTORY_CAUSE']\n",
    "data_['PRIM_CONTRIBUTORY_CAUSE'].value_counts()"
   ]
  },
  {
   "cell_type": "markdown",
   "metadata": {},
   "source": [
    "## Splitting Data "
   ]
  },
  {
   "cell_type": "code",
   "execution_count": 4,
   "metadata": {},
   "outputs": [],
   "source": [
    "x_train, x_test, y_train, y_test=train_test_split(x,y,test_size=0.2, random_state=33)"
   ]
  },
  {
   "cell_type": "markdown",
   "metadata": {},
   "source": [
    "## Building Initial Models"
   ]
  },
  {
   "cell_type": "code",
   "execution_count": 5,
   "metadata": {},
   "outputs": [],
   "source": [
    "models = []\n",
    "models.append(('LR', LogisticRegression()))\n",
    "models.append(('LDA', LinearDiscriminantAnalysis()))\n",
    "models.append(('KNN', KNeighborsClassifier()))\n",
    "models.append(('RF', RandomForestClassifier(random_state=33)))\n",
    "models.append(('XGB', XGBClassifier(random_state=33)))"
   ]
  },
  {
   "cell_type": "code",
   "execution_count": 6,
   "metadata": {},
   "outputs": [
    {
     "name": "stdout",
     "output_type": "stream",
     "text": [
      "LR: 0.8839 (0.0020)\n",
      "LDA: 0.8682 (0.0025)\n",
      "KNN: 0.8817 (0.0019)\n",
      "RF: 0.8401 (0.0012)\n",
      "XGB: 0.8836 (0.0020)\n"
     ]
    }
   ],
   "source": [
    "#evaluate each model for accuracy\n",
    "results = []\n",
    "scoring = 'accuracy'\n",
    "for name, model in models:\n",
    "    kfold = model_selection.KFold(n_splits=10, random_state=33)\n",
    "    cv_results = model_selection.cross_val_score(model, x_train, y_train, cv=kfold, scoring=scoring)\n",
    "    results.append(cv_results)\n",
    "    msg = '%s: %0.4f (%0.4f)' % (name, cv_results.mean(), cv_results.std())\n",
    "    print(msg)"
   ]
  },
  {
   "cell_type": "code",
   "execution_count": 7,
   "metadata": {},
   "outputs": [
    {
     "data": {
      "image/png": "[encoded data removed]",
      "text/plain": [
       "<Figure size 936x576 with 1 Axes>"
      ]
     },
     "metadata": {
      "needs_background": "light"
     },
     "output_type": "display_data"
    }
   ],
   "source": [
    "# boxplot algorithm comparison\n",
    "names = ['LR','LDA','KNN','RF','XGB']\n",
    "fig = plt.figure(figsize=(13,8))\n",
    "ax = fig.add_subplot(111)\n",
    "ax.set_title('Comparison Between Machine Learning Algorithms')\n",
    "plt.boxplot(results)\n",
    "ax.set_xticklabels(names)\n",
    "plt.show()"
   ]
  },
  {
   "cell_type": "markdown",
   "metadata": {},
   "source": [
    "## Classification Reports "
   ]
  },
  {
   "cell_type": "code",
   "execution_count": 8,
   "metadata": {},
   "outputs": [
    {
     "name": "stdout",
     "output_type": "stream",
     "text": [
      "The accuracy of model LogisticRegression is 0.8838\n",
      "              precision    recall  f1-score   support\n",
      "\n",
      "           0     0.8838    1.0000    0.9383     44333\n",
      "           1     0.0000    0.0000    0.0000      3401\n",
      "           2     0.0000    0.0000    0.0000      1556\n",
      "           3     0.0000    0.0000    0.0000       870\n",
      "\n",
      "    accuracy                         0.8838     50160\n",
      "   macro avg     0.2210    0.2500    0.2346     50160\n",
      "weighted avg     0.7812    0.8838    0.8293     50160\n",
      "\n",
      "\n",
      "\n",
      "The accuracy of model LinearDiscriminantAnalysis is 0.8675\n",
      "              precision    recall  f1-score   support\n",
      "\n",
      "           0     0.8931    0.9672    0.9287     44333\n",
      "           1     0.2990    0.1782    0.2233      3401\n",
      "           2     0.2167    0.0167    0.0310      1556\n",
      "           3     0.0000    0.0000    0.0000       870\n",
      "\n",
      "    accuracy                         0.8675     50160\n",
      "   macro avg     0.3522    0.2905    0.2957     50160\n",
      "weighted avg     0.8163    0.8675    0.8369     50160\n",
      "\n",
      "\n",
      "\n",
      "The accuracy of model KNeighborsClassifier is 0.8818\n",
      "              precision    recall  f1-score   support\n",
      "\n",
      "           0     0.8839    0.9976    0.9373     44333\n",
      "           1     0.0598    0.0021    0.0040      3401\n",
      "           2     0.0000    0.0000    0.0000      1556\n",
      "           3     0.0000    0.0000    0.0000       870\n",
      "\n",
      "    accuracy                         0.8818     50160\n",
      "   macro avg     0.2359    0.2499    0.2353     50160\n",
      "weighted avg     0.7853    0.8818    0.8287     50160\n",
      "\n",
      "\n",
      "\n",
      "The accuracy of model RandomForestClassifier is 0.8372\n",
      "              precision    recall  f1-score   support\n",
      "\n",
      "           0     0.8867    0.9399    0.9126     44333\n",
      "           1     0.1412    0.0779    0.1004      3401\n",
      "           2     0.0634    0.0334    0.0438      1556\n",
      "           3     0.0106    0.0057    0.0075       870\n",
      "\n",
      "    accuracy                         0.8372     50160\n",
      "   macro avg     0.2755    0.2643    0.2661     50160\n",
      "weighted avg     0.7954    0.8372    0.8148     50160\n",
      "\n",
      "\n",
      "\n",
      "The accuracy of model XGBClassifier is 0.8836\n",
      "              precision    recall  f1-score   support\n",
      "\n",
      "           0     0.8845    0.9988    0.9382     44333\n",
      "           1     0.4545    0.0118    0.0229      3401\n",
      "           2     0.0000    0.0000    0.0000      1556\n",
      "           3     0.0000    0.0000    0.0000       870\n",
      "\n",
      "    accuracy                         0.8836     50160\n",
      "   macro avg     0.3348    0.2527    0.2403     50160\n",
      "weighted avg     0.8126    0.8836    0.8308     50160\n",
      "\n",
      "\n",
      "\n"
     ]
    }
   ],
   "source": [
    "# create a classification report for each model\n",
    "for name, model in models:\n",
    "    model.fit(x_train, y_train)\n",
    "    y_pred= model.predict(x_test)\n",
    "    accuracy= accuracy_score(y_test, y_pred)\n",
    "    clf_report= classification_report(y_test, y_pred, digits=4)\n",
    "    print(f\"The accuracy of model {type(model).__name__} is {accuracy:.4f}\")\n",
    "    print(clf_report)\n",
    "    print(\"\\n\")"
   ]
  },
  {
   "cell_type": "markdown",
   "metadata": {},
   "source": [
    "## Using the XGBoost Model "
   ]
  },
  {
   "cell_type": "code",
   "execution_count": 9,
   "metadata": {},
   "outputs": [],
   "source": [
    "XGBmodel = XGBClassifier()\n",
    "XGBmodel.fit(x_train, y_train)\n",
    "y_predict = XGBmodel.predict(x_test)"
   ]
  },
  {
   "cell_type": "markdown",
   "metadata": {},
   "source": [
    "## Initial Confusion Matrix using XGBoost "
   ]
  },
  {
   "cell_type": "code",
   "execution_count": 10,
   "metadata": {},
   "outputs": [
    {
     "data": {
      "image/png": "[encoded data removed]",
      "text/plain": [
       "<Figure size 432x288 with 1 Axes>"
      ]
     },
     "metadata": {
      "needs_background": "light"
     },
     "output_type": "display_data"
    }
   ],
   "source": [
    "cm = confusion_matrix(y_target=y_test, \n",
    "                      y_predicted=y_predict, \n",
    "                      binary=False)\n",
    "\n",
    "labels = ['Driver negligence','External factors','Intoxication','Distraction']\n",
    "fig, ax = plot_confusion_matrix(conf_mat=cm)\n",
    "ax.set_xticklabels([''] + labels,rotation=45)\n",
    "ax.set_yticklabels([''] + labels)\n",
    "\n",
    "plt.show()"
   ]
  },
  {
   "cell_type": "markdown",
   "metadata": {},
   "source": [
    "## Using SMOTE to Cure Imbalance "
   ]
  },
  {
   "cell_type": "code",
   "execution_count": 11,
   "metadata": {},
   "outputs": [],
   "source": [
    "from imblearn.over_sampling import SMOTE\n",
    "from imblearn.pipeline import Pipeline \n",
    "\n",
    "resampling = SMOTE()\n",
    "\n",
    "# Define the pipeline, combine SMOTE with the XGB model\n",
    "pipeline = Pipeline([('SMOTE', resampling), ('XGBoost', XGBmodel)])"
   ]
  },
  {
   "cell_type": "code",
   "execution_count": 12,
   "metadata": {},
   "outputs": [
    {
     "name": "stdout",
     "output_type": "stream",
     "text": [
      "XGBoost classification report:\n",
      "               precision    recall  f1-score   support\n",
      "\n",
      "           0     0.8855    0.9941    0.9367     44333\n",
      "           1     0.3640    0.0291    0.0539      3401\n",
      "           2     0.1193    0.0084    0.0156      1556\n",
      "           3     0.0000    0.0000    0.0000       870\n",
      "\n",
      "    accuracy                         0.8808     50160\n",
      "   macro avg     0.3422    0.2579    0.2515     50160\n",
      "weighted avg     0.8110    0.8808    0.8320     50160\n",
      "\n"
     ]
    },
    {
     "data": {
      "image/png": "[encoded data removed]",
      "text/plain": [
       "<Figure size 432x288 with 1 Axes>"
      ]
     },
     "metadata": {
      "needs_background": "light"
     },
     "output_type": "display_data"
    }
   ],
   "source": [
    "pipeline.fit(x_train, y_train) \n",
    "predicted_ = pipeline.predict(x_test)\n",
    "\n",
    "# Obtain the results from the classification report and confusion matrix \n",
    "print('XGBoost classification report:\\n', classification_report(y_test, predicted_, digits=4))\n",
    "conf_mat = confusion_matrix(y_target=y_test, y_predicted=predicted_)\n",
    "\n",
    "fig, ax = plot_confusion_matrix(conf_mat=conf_mat)\n",
    "ax.set_title('SMOTE Confusion Matrix')\n",
    "ax.set_xticklabels([''] + labels,rotation=45)\n",
    "ax.set_yticklabels([''] + labels)\n",
    "\n",
    "plt.show()"
   ]
  },
  {
   "cell_type": "code",
   "execution_count": 13,
   "metadata": {},
   "outputs": [
    {
     "name": "stdout",
     "output_type": "stream",
     "text": [
      "Fitting 5 folds for each of 64 candidates, totalling 320 fits\n"
     ]
    },
    {
     "name": "stderr",
     "output_type": "stream",
     "text": [
      "[Parallel(n_jobs=1)]: Using backend SequentialBackend with 1 concurrent workers.\n",
      "[Parallel(n_jobs=1)]: Done 320 out of 320 | elapsed: 51.2min finished\n"
     ]
    },
    {
     "name": "stdout",
     "output_type": "stream",
     "text": [
      "Best parameters found:  {'colsample_bytree': 0.1, 'max_depth': 2, 'n_estimators': 8}\n",
      "Lowest RMSE found:  0.5862165291883398\n"
     ]
    }
   ],
   "source": [
    "parameters_grid = {\n",
    "    'colsample_bytree': [0.1, 0.5, 0.8, 1],\n",
    "    'n_estimators': [8, 16, 25, 32],\n",
    "    'max_depth': [2, 5, 10, 20]}\n",
    "\n",
    "# Perform grid search\n",
    "grid_mse = GridSearchCV(estimator=XGBmodel, param_grid=parameters_grid,\n",
    "                        scoring='neg_mean_squared_error', cv=5, verbose=1)\n",
    "grid_mse.fit(x, y)\n",
    "\n",
    "# print the best parameters and lowest RMSE\n",
    "print(\"Best parameters found: \", grid_mse.best_params_)\n",
    "print(\"Lowest RMSE found: \", np.sqrt(np.abs(grid_mse.best_score_)))"
   ]
  }
 ],
 "metadata": {
  "kernelspec": {
   "display_name": "Python 3",
   "language": "python",
   "name": "python3"
  },
  "language_info": {
   "codemirror_mode": {
    "name": "ipython",
    "version": 3
   },
   "file_extension": ".py",
   "mimetype": "text/x-python",
   "name": "python",
   "nbconvert_exporter": "python",
   "pygments_lexer": "ipython3",
   "version": "3.8.3"
  }
 },
 "nbformat": 4,
 "nbformat_minor": 4
}
